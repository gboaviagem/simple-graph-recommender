{
 "cells": [
  {
   "cell_type": "markdown",
   "id": "affecting-auction",
   "metadata": {},
   "source": [
    "# Recomendação de produtos usando Spark GraphFrames"
   ]
  },
  {
   "cell_type": "code",
   "execution_count": 1,
   "id": "hispanic-trading",
   "metadata": {},
   "outputs": [],
   "source": [
    "import os\n",
    "os.environ['PYSPARK_SUBMIT_ARGS'] = '--packages graphframes:graphframes:0.8.1-spark3.0-s_2.12 pyspark-shell'\n",
    "\n",
    "# from pyspark import SparkContext\n",
    "from pyspark.sql import SQLContext, SparkSession\n",
    "spark = SparkSession.builder.master(\"local[1]\").appName(\"gboaviagemApp\").getOrCreate()"
   ]
  },
  {
   "cell_type": "code",
   "execution_count": 2,
   "id": "hollywood-plenty",
   "metadata": {},
   "outputs": [],
   "source": [
    "sqlc = SQLContext(spark.sparkContext)"
   ]
  },
  {
   "source": [
    "Uma vez que este notebook foi executado dentro de um container, rodando a imagem `jupyter/pyspark-notebook`, o path estará diferente. Para enviar o arquivo da máquina host para o sistema de arquivos do container, basta usar o comando `sudo docker cp`."
   ],
   "cell_type": "markdown",
   "metadata": {}
  },
  {
   "cell_type": "code",
   "execution_count": 3,
   "id": "frank-harmony",
   "metadata": {},
   "outputs": [],
   "source": [
    "wdir = \"/home/jovyan/work/neo4jdata-200/\"\n",
    "\n",
    "n_users = spark.read.csv(wdir + \"neo4j_node_list-Usuario.csv\", header=True, inferSchema=True)\n",
    "n_prods = spark.read.csv(wdir + \"neo4j_node_list-Produto.csv\", header=True, inferSchema=True)\n",
    "e_comprou = spark.read.csv(wdir + \"neo4j_edge_list-COMPROU.csv\", header=True, inferSchema=True)"
   ]
  },
  {
   "cell_type": "code",
   "execution_count": 4,
   "id": "diagnostic-metadata",
   "metadata": {},
   "outputs": [
    {
     "name": "stdout",
     "output_type": "stream",
     "text": [
      "+-----------------+---+\n",
      "|            email| uf|\n",
      "+-----------------+---+\n",
      "|user010@gmail.com| CE|\n",
      "|user007@gmail.com| AM|\n",
      "|user008@gmail.com| MS|\n",
      "|user003@gmail.com| MA|\n",
      "|user001@gmail.com| PB|\n",
      "|user004@gmail.com| MS|\n",
      "|user002@gmail.com| PR|\n",
      "|user006@gmail.com| AP|\n",
      "|user005@gmail.com| PE|\n",
      "|user009@gmail.com| SE|\n",
      "+-----------------+---+\n",
      "\n"
     ]
    }
   ],
   "source": [
    "n_users.show()"
   ]
  },
  {
   "cell_type": "code",
   "execution_count": 5,
   "id": "modular-classroom",
   "metadata": {},
   "outputs": [
    {
     "name": "stdout",
     "output_type": "stream",
     "text": [
      "root\n",
      " |-- email: string (nullable = true)\n",
      " |-- uf: string (nullable = true)\n",
      "\n"
     ]
    }
   ],
   "source": [
    "n_users.printSchema()"
   ]
  },
  {
   "cell_type": "code",
   "execution_count": 6,
   "id": "fourth-steam",
   "metadata": {},
   "outputs": [
    {
     "name": "stdout",
     "output_type": "stream",
     "text": [
      "root\n",
      " |-- produto_id: string (nullable = true)\n",
      "\n"
     ]
    }
   ],
   "source": [
    "n_prods.printSchema()"
   ]
  },
  {
   "cell_type": "code",
   "execution_count": 7,
   "id": "final-intake",
   "metadata": {},
   "outputs": [
    {
     "name": "stdout",
     "output_type": "stream",
     "text": [
      "root\n",
      " |-- email: string (nullable = true)\n",
      " |-- produto_id: string (nullable = true)\n",
      " |-- valor_pago: double (nullable = true)\n",
      " |-- quando: string (nullable = true)\n",
      "\n"
     ]
    }
   ],
   "source": [
    "e_comprou.printSchema()"
   ]
  },
  {
   "cell_type": "markdown",
   "id": "medical-kitty",
   "metadata": {},
   "source": [
    "## Dando casting da coluna \"quando\" de `str` para `timestamp`\n",
    "\n",
    "Isso poderia ser importante, caso fosse preciso alguma query explorando a natureza temporal das compras. Para a estratégia simples de recomendação construída aqui, isso não era necessário."
   ]
  },
  {
   "cell_type": "code",
   "execution_count": 8,
   "id": "changing-affairs",
   "metadata": {},
   "outputs": [],
   "source": [
    "from pyspark.sql import functions as F\n",
    "\n",
    "e_comprou = e_comprou.withColumn('quando', F.current_timestamp())"
   ]
  },
  {
   "cell_type": "code",
   "execution_count": 9,
   "id": "equivalent-seven",
   "metadata": {},
   "outputs": [
    {
     "name": "stdout",
     "output_type": "stream",
     "text": [
      "root\n",
      " |-- email: string (nullable = true)\n",
      " |-- produto_id: string (nullable = true)\n",
      " |-- valor_pago: double (nullable = true)\n",
      " |-- quando: timestamp (nullable = false)\n",
      "\n"
     ]
    }
   ],
   "source": [
    "e_comprou.printSchema()"
   ]
  },
  {
   "cell_type": "markdown",
   "id": "graphic-address",
   "metadata": {},
   "source": [
    "## Criando o GraphFrame"
   ]
  },
  {
   "cell_type": "code",
   "execution_count": 10,
   "id": "finite-idaho",
   "metadata": {},
   "outputs": [],
   "source": [
    "nodes1 = n_users.\\\n",
    "    drop_duplicates(subset=['email']).\\\n",
    "    withColumnRenamed('email', 'id').\\\n",
    "    withColumn('tipo', F.lit('Usuario'))\n",
    "\n",
    "nodes2 = n_prods.\\\n",
    "    drop_duplicates().\\\n",
    "    withColumnRenamed('produto_id', 'id').\\\n",
    "    withColumn('tipo', F.lit('Produto'))"
   ]
  },
  {
   "cell_type": "code",
   "execution_count": 11,
   "id": "liable-palace",
   "metadata": {},
   "outputs": [
    {
     "data": {
      "text/plain": [
       "10"
      ]
     },
     "execution_count": 11,
     "metadata": {},
     "output_type": "execute_result"
    }
   ],
   "source": [
    "nodes1.count()"
   ]
  },
  {
   "cell_type": "code",
   "execution_count": 12,
   "id": "special-driver",
   "metadata": {},
   "outputs": [
    {
     "data": {
      "text/plain": [
       "50"
      ]
     },
     "execution_count": 12,
     "metadata": {},
     "output_type": "execute_result"
    }
   ],
   "source": [
    "nodes2.count()"
   ]
  },
  {
   "cell_type": "code",
   "execution_count": 13,
   "id": "tired-kingdom",
   "metadata": {},
   "outputs": [],
   "source": [
    "nodes = nodes1.join(nodes2, ['id', 'tipo'], 'outer')"
   ]
  },
  {
   "cell_type": "code",
   "execution_count": 14,
   "id": "complimentary-cleaner",
   "metadata": {},
   "outputs": [
    {
     "name": "stdout",
     "output_type": "stream",
     "text": [
      "root\n",
      " |-- id: string (nullable = true)\n",
      " |-- tipo: string (nullable = true)\n",
      " |-- uf: string (nullable = true)\n",
      "\n"
     ]
    }
   ],
   "source": [
    "nodes.printSchema()"
   ]
  },
  {
   "cell_type": "code",
   "execution_count": 15,
   "id": "deluxe-richards",
   "metadata": {},
   "outputs": [
    {
     "name": "stdout",
     "output_type": "stream",
     "text": [
      "+---------+-------+----+\n",
      "|       id|   tipo|  uf|\n",
      "+---------+-------+----+\n",
      "|Produto38|Produto|null|\n",
      "| Produto9|Produto|null|\n",
      "|Produto36|Produto|null|\n",
      "| Produto8|Produto|null|\n",
      "|Produto30|Produto|null|\n",
      "+---------+-------+----+\n",
      "\n"
     ]
    }
   ],
   "source": [
    "nodes.limit(5).show()"
   ]
  },
  {
   "cell_type": "code",
   "execution_count": 16,
   "id": "quick-option",
   "metadata": {},
   "outputs": [
    {
     "data": {
      "text/plain": [
       "169"
      ]
     },
     "execution_count": 16,
     "metadata": {},
     "output_type": "execute_result"
    }
   ],
   "source": [
    "e_comprou.count()"
   ]
  },
  {
   "cell_type": "code",
   "execution_count": 17,
   "id": "billion-madonna",
   "metadata": {},
   "outputs": [
    {
     "name": "stdout",
     "output_type": "stream",
     "text": [
      "root\n",
      " |-- email: string (nullable = true)\n",
      " |-- produto_id: string (nullable = true)\n",
      " |-- valor_pago: double (nullable = true)\n",
      " |-- quando: timestamp (nullable = false)\n",
      "\n"
     ]
    }
   ],
   "source": [
    "e_comprou.printSchema()"
   ]
  },
  {
   "cell_type": "code",
   "execution_count": 18,
   "id": "independent-outside",
   "metadata": {},
   "outputs": [],
   "source": [
    "edges = e_comprou.\\\n",
    "    withColumnRenamed('email', 'src').\\\n",
    "    withColumnRenamed('produto_id', 'dst').\\\n",
    "    withColumn('tipo', F.lit('COMPROU'))"
   ]
  },
  {
   "cell_type": "code",
   "execution_count": 19,
   "id": "incomplete-nomination",
   "metadata": {},
   "outputs": [
    {
     "name": "stdout",
     "output_type": "stream",
     "text": [
      "+-----------------+---------+----------+--------------------+-------+\n",
      "|              src|      dst|valor_pago|              quando|   tipo|\n",
      "+-----------------+---------+----------+--------------------+-------+\n",
      "|user010@gmail.com|Produto30|     148.0|2021-03-20 22:53:...|COMPROU|\n",
      "|user007@gmail.com|Produto14|     165.0|2021-03-20 22:53:...|COMPROU|\n",
      "|user010@gmail.com|Produto44|     153.0|2021-03-20 22:53:...|COMPROU|\n",
      "|user008@gmail.com|Produto48|     196.0|2021-03-20 22:53:...|COMPROU|\n",
      "|user003@gmail.com|Produto22|      89.0|2021-03-20 22:53:...|COMPROU|\n",
      "|user001@gmail.com|Produto30|     148.0|2021-03-20 22:53:...|COMPROU|\n",
      "|user004@gmail.com|Produto34|     108.0|2021-03-20 22:53:...|COMPROU|\n",
      "|user001@gmail.com|Produto49|     182.0|2021-03-20 22:53:...|COMPROU|\n",
      "|user002@gmail.com|Produto28|     172.0|2021-03-20 22:53:...|COMPROU|\n",
      "|user007@gmail.com|Produto36|     130.0|2021-03-20 22:53:...|COMPROU|\n",
      "|user006@gmail.com|Produto22|      89.0|2021-03-20 22:53:...|COMPROU|\n",
      "|user005@gmail.com| Produto3|     182.0|2021-03-20 22:53:...|COMPROU|\n",
      "|user006@gmail.com|Produto42|     185.0|2021-03-20 22:53:...|COMPROU|\n",
      "|user006@gmail.com|Produto31|     162.0|2021-03-20 22:53:...|COMPROU|\n",
      "|user002@gmail.com|Produto18|     131.0|2021-03-20 22:53:...|COMPROU|\n",
      "|user003@gmail.com|Produto21|      83.0|2021-03-20 22:53:...|COMPROU|\n",
      "|user007@gmail.com|Produto18|     131.0|2021-03-20 22:53:...|COMPROU|\n",
      "|user007@gmail.com|Produto50|     130.0|2021-03-20 22:53:...|COMPROU|\n",
      "|user005@gmail.com|Produto20|     199.0|2021-03-20 22:53:...|COMPROU|\n",
      "|user006@gmail.com| Produto7|      98.0|2021-03-20 22:53:...|COMPROU|\n",
      "+-----------------+---------+----------+--------------------+-------+\n",
      "only showing top 20 rows\n",
      "\n"
     ]
    }
   ],
   "source": [
    "edges.show()"
   ]
  },
  {
   "cell_type": "code",
   "execution_count": 20,
   "id": "formal-gothic",
   "metadata": {},
   "outputs": [],
   "source": [
    "from graphframes import GraphFrame\n",
    "\n",
    "g = GraphFrame(nodes, edges)"
   ]
  },
  {
   "cell_type": "code",
   "execution_count": 21,
   "id": "invalid-purpose",
   "metadata": {},
   "outputs": [],
   "source": [
    "q = g.find(\"(usuario)-[]->(prod)\").withColumn('usuario', F.col('usuario').id)"
   ]
  },
  {
   "cell_type": "code",
   "execution_count": 25,
   "id": "amended-jerusalem",
   "metadata": {},
   "outputs": [],
   "source": [
    "# Top compradores\n",
    "# q.groupBy('user').count().sort(F.col('count').desc(), 'user').show()\n",
    "q = q.groupBy('usuario')\\\n",
    "    .agg(F.count('prod').alias('qtd_produtos'))\\\n",
    "    .sort(F.col('qtd_produtos').desc(), 'usuario')"
   ]
  },
  {
   "cell_type": "code",
   "execution_count": 26,
   "id": "comprehensive-huntington",
   "metadata": {},
   "outputs": [
    {
     "name": "stdout",
     "output_type": "stream",
     "text": [
      "+-----------------+------------+\n",
      "|          usuario|qtd_produtos|\n",
      "+-----------------+------------+\n",
      "|user003@gmail.com|          20|\n",
      "|user005@gmail.com|          20|\n",
      "|user007@gmail.com|          20|\n",
      "|user002@gmail.com|          19|\n",
      "|user004@gmail.com|          17|\n",
      "|user006@gmail.com|          16|\n",
      "|user008@gmail.com|          16|\n",
      "|user009@gmail.com|          15|\n",
      "|user010@gmail.com|          14|\n",
      "|user001@gmail.com|          12|\n",
      "+-----------------+------------+\n",
      "\n"
     ]
    }
   ],
   "source": [
    "q.show()"
   ]
  },
  {
   "cell_type": "code",
   "execution_count": null,
   "id": "suburban-darwin",
   "metadata": {},
   "outputs": [],
   "source": [
    "q.write.csv(\"top_compradores\")"
   ]
  },
  {
   "cell_type": "markdown",
   "id": "expired-traveler",
   "metadata": {},
   "source": [
    "Reference: https://sparkbyexamples.com/pyspark/pyspark-groupby-explained-with-example/"
   ]
  },
  {
   "cell_type": "code",
   "execution_count": 27,
   "id": "cardiovascular-brunswick",
   "metadata": {},
   "outputs": [],
   "source": [
    "# Top produtos\n",
    "q = g.find(\"(u)-[e]->(produto)\") #.withColumn('user', F.col('user').id)"
   ]
  },
  {
   "cell_type": "markdown",
   "id": "mature-communist",
   "metadata": {},
   "source": [
    "Para filtrar, bastaria adicionar antes do `show`\n",
    "\n",
    "```python\n",
    "where(F.col('qtd_compradores') > 10)\n",
    "```"
   ]
  },
  {
   "cell_type": "code",
   "execution_count": 28,
   "id": "organizational-binding",
   "metadata": {},
   "outputs": [],
   "source": [
    "q = q.withColumn('valor_pago', F.col('e').valor_pago)\\\n",
    "    .groupBy(\"produto\")\\\n",
    "    .agg(\n",
    "        F.count(\"u\").alias(\"qtd_compradores\"),\n",
    "        F.avg(\"valor_pago\").alias(\"preco_medio\"))\\\n",
    "    .withColumn('produto', F.col('produto').id)\\\n",
    "    .sort(F.col('qtd_compradores').desc(), 'produto')\n",
    "    #.write.csv(\"top_produtos\")"
   ]
  },
  {
   "cell_type": "code",
   "execution_count": 29,
   "id": "compressed-right",
   "metadata": {},
   "outputs": [
    {
     "name": "stdout",
     "output_type": "stream",
     "text": [
      "+---------+---------------+-----------+\n",
      "|  produto|qtd_compradores|preco_medio|\n",
      "+---------+---------------+-----------+\n",
      "| Produto1|              6|      153.0|\n",
      "|Produto16|              6|      191.0|\n",
      "|Produto18|              6|      131.0|\n",
      "|Produto36|              6|      130.0|\n",
      "|Produto13|              5|      166.0|\n",
      "| Produto2|              5|      140.0|\n",
      "|Produto20|              5|      199.0|\n",
      "|Produto24|              5|       87.0|\n",
      "|Produto29|              5|      157.0|\n",
      "| Produto3|              5|      182.0|\n",
      "|Produto33|              5|      147.0|\n",
      "|Produto34|              5|      108.0|\n",
      "| Produto5|              5|      124.0|\n",
      "|Produto50|              5|      130.0|\n",
      "|Produto10|              4|      126.0|\n",
      "|Produto12|              4|      130.0|\n",
      "|Produto22|              4|       89.0|\n",
      "|Produto28|              4|      172.0|\n",
      "|Produto38|              4|       94.0|\n",
      "| Produto4|              4|      171.0|\n",
      "+---------+---------------+-----------+\n",
      "only showing top 20 rows\n",
      "\n"
     ]
    }
   ],
   "source": [
    "q.show()"
   ]
  },
  {
   "cell_type": "markdown",
   "id": "sudden-growth",
   "metadata": {},
   "source": [
    "### Recomendação em grão usuário (offline)\n",
    "\n",
    "Dado um usuário A, quais os produtos comprados por usuários B que compraram os mesmos produtos que A?"
   ]
  },
  {
   "cell_type": "code",
   "execution_count": 30,
   "id": "certified-windsor",
   "metadata": {},
   "outputs": [],
   "source": [
    "q = g.find(\"(u1)-[]->(p1); (u2)-[]->(p1); (u2)-[]->(p2)\")\\\n",
    "    .withColumn('u1', F.col('u1').id)\\\n",
    "    .withColumn('u2', F.col('u2').id)\\\n",
    "    .withColumn('p1', F.col('p1').id)\\\n",
    "    .withColumn('p2', F.col('p2').id)\\\n",
    "    .where(\n",
    "        (F.col('u1') == 'user003@gmail.com') &\n",
    "        (F.col('u1') != F.col('u2')) &\n",
    "        (F.col('p1') != F.col('p2')))\n",
    "    \n",
    "\n",
    "# More complex queries can be expressed by applying filters.\n",
    "# motifs.filter(\"b.age > 30\").show()"
   ]
  },
  {
   "cell_type": "code",
   "execution_count": 31,
   "id": "decent-clinic",
   "metadata": {},
   "outputs": [
    {
     "name": "stdout",
     "output_type": "stream",
     "text": [
      "+-----------------+---------+-----------------+---------+\n",
      "|               u1|       p1|               u2|       p2|\n",
      "+-----------------+---------+-----------------+---------+\n",
      "|user003@gmail.com|Produto11|user004@gmail.com|Produto43|\n",
      "|user003@gmail.com|Produto11|user004@gmail.com| Produto1|\n",
      "|user003@gmail.com|Produto11|user004@gmail.com|Produto17|\n",
      "|user003@gmail.com|Produto11|user004@gmail.com|Produto44|\n",
      "|user003@gmail.com|Produto11|user004@gmail.com|Produto12|\n",
      "+-----------------+---------+-----------------+---------+\n",
      "\n"
     ]
    }
   ],
   "source": [
    "q.limit(5).show()"
   ]
  },
  {
   "cell_type": "code",
   "execution_count": 80,
   "id": "faced-penetration",
   "metadata": {},
   "outputs": [],
   "source": [
    "q.write.csv('graph_recomendacao_usuario003.csv')"
   ]
  },
  {
   "cell_type": "code",
   "execution_count": null,
   "id": "appointed-mystery",
   "metadata": {},
   "outputs": [],
   "source": []
  }
 ],
 "metadata": {
  "kernelspec": {
   "display_name": "Python 3",
   "language": "python",
   "name": "python3"
  },
  "language_info": {
   "codemirror_mode": {
    "name": "ipython",
    "version": 3
   },
   "file_extension": ".py",
   "mimetype": "text/x-python",
   "name": "python",
   "nbconvert_exporter": "python",
   "pygments_lexer": "ipython3",
   "version": "3.8.8"
  }
 },
 "nbformat": 4,
 "nbformat_minor": 5
}